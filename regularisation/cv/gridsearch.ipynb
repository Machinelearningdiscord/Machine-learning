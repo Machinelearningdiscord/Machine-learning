{
  "nbformat": 4,
  "nbformat_minor": 0,
  "metadata": {
    "colab": {
      "name": "Untitled5.ipynb",
      "provenance": [],
      "collapsed_sections": [],
      "authorship_tag": "ABX9TyNBo2F6IIbhBDT+3EOa2zd3",
      "include_colab_link": true
    },
    "kernelspec": {
      "name": "python3",
      "display_name": "Python 3"
    }
  },
  "cells": [
    {
      "cell_type": "markdown",
      "metadata": {
        "id": "view-in-github",
        "colab_type": "text"
      },
      "source": [
        "<a href=\"https://colab.research.google.com/github/Machinelearningdiscord/Machine-learning/blob/master/regularisation/cv/gridsearch.ipynb\" target=\"_parent\"><img src=\"https://colab.research.google.com/assets/colab-badge.svg\" alt=\"Open In Colab\"/></a>"
      ]
    },
    {
      "cell_type": "code",
      "metadata": {
        "id": "nuF7-7nPL5Ei",
        "colab_type": "code",
        "outputId": "7cde05c3-6457-484e-f3e7-60560f8bc09d",
        "colab": {
          "base_uri": "https://localhost:8080/",
          "height": 52
        }
      },
      "source": [
        "import pandas as pd\n",
        "import numpy as np\n",
        "from sklearn.linear_model import LinearRegression\n",
        "from sklearn.model_selection import train_test_split\n",
        "from sklearn.model_selection import cross_val_score as cv\n",
        "from sklearn.metrics import mean_squared_error\n",
        "import matplotlib.pyplot as plt\n",
        "import seaborn as sns\n",
        "import sklearn.datasets\n",
        "boston=sklearn.datasets.load_boston()\n",
        "X_train,X_test,y_train,y_test=train_test_split(boston.data,boston.target,test_size=0.3,random_state=42)\n",
        "reg1=LinearRegression()\n",
        "reg1.fit(X_train,y_train)\n",
        "y_pred=reg1.predict(X_test)\n",
        "print(mean_squared_error(y_test,y_pred))\n",
        "reg1.score(X_test,y_test)\n",
        "\n",
        "\n"
      ],
      "execution_count": 0,
      "outputs": [
        {
          "output_type": "stream",
          "text": [
            "21.517444231176903\n"
          ],
          "name": "stdout"
        },
        {
          "output_type": "execute_result",
          "data": {
            "text/plain": [
              "0.7112260057484974"
            ]
          },
          "metadata": {
            "tags": []
          },
          "execution_count": 57
        }
      ]
    },
    {
      "cell_type": "code",
      "metadata": {
        "id": "XexEKgtiPBd8",
        "colab_type": "code",
        "outputId": "14041599-4152-49dc-962b-662fb4b5d249",
        "colab": {
          "base_uri": "https://localhost:8080/",
          "height": 52
        }
      },
      "source": [
        "score=cv(reg,boston.data,boston.target,cv=5)\n",
        "print(score)\n",
        "score.mean()"
      ],
      "execution_count": 0,
      "outputs": [
        {
          "output_type": "stream",
          "text": [
            "[ 0.63919994  0.71386698  0.58702344  0.07923081 -0.25294154]\n"
          ],
          "name": "stdout"
        },
        {
          "output_type": "execute_result",
          "data": {
            "text/plain": [
              "0.35327592439588484"
            ]
          },
          "metadata": {
            "tags": []
          },
          "execution_count": 38
        }
      ]
    },
    {
      "cell_type": "code",
      "metadata": {
        "id": "kjmCB-3-7_iG",
        "colab_type": "code",
        "outputId": "9546ae39-b62c-4dde-f9ee-252da2cbf7fd",
        "colab": {
          "base_uri": "https://localhost:8080/",
          "height": 35
        }
      },
      "source": [
        "from sklearn.linear_model import Ridge\n",
        "ridge=Ridge(alpha=0.1,normalize=True)\n",
        "ridge.fit(boston.data,boston.target)\n",
        "score=cv(ridge,boston.data,boston.target,cv=5)\n",
        "score.mean()\n"
      ],
      "execution_count": 0,
      "outputs": [
        {
          "output_type": "execute_result",
          "data": {
            "text/plain": [
              "0.45392324833865755"
            ]
          },
          "metadata": {
            "tags": []
          },
          "execution_count": 41
        }
      ]
    },
    {
      "cell_type": "code",
      "metadata": {
        "id": "VjOKoTRSjxg4",
        "colab_type": "code",
        "outputId": "6deea30c-b082-4ca5-9b54-0810ba3943b8",
        "colab": {
          "base_uri": "https://localhost:8080/",
          "height": 283
        }
      },
      "source": [
        "from sklearn.linear_model import Ridge\n",
        "\n",
        "alpha_space = np.logspace(-10,1,1000)\n",
        "ridge_scores = []\n",
        "ridge_scores_std = []\n",
        "cvscores=[]\n",
        "ridge_no_cv=[]\n",
        "ridge =Ridge(normalize=True)\n",
        "for alpha in alpha_space:\n",
        "  ridge.alpha =alpha\n",
        "  ridge_cv_scores =cv(ridge,boston.data,boston.target,cv=5,scoring='r2')\n",
        "  ridge=Ridge(alpha=alpha,normalize=True)\n",
        "  ridge.fit(boston.data,boston.target)\n",
        "  ridge_no_cv.append(ridge.score(boston.data,boston.target))\n",
        "  cvscores.append(np.mean(cv_scores))\n",
        "  ridge_scores.append(np.mean(ridge_cv_scores))\n",
        "  ridge_scores_std.append(np.std(ridge_cv_scores))\n",
        "  #print(str(ridge_scores)+' for alpha value '+str(alpha))\n",
        "m=ridge_scores.index(max(ridge_scores))\n",
        "max_aplha=alpha_space[m]\n",
        "print(max_aplha)\n",
        "plt.xlim(-1,10)\n",
        "plt.plot(alpha_space,ridge_scores)\n",
        "plt.plot(alpha_space,ridge_no_cv)\n",
        "plt.show()"
      ],
      "execution_count": 0,
      "outputs": [
        {
          "output_type": "stream",
          "text": [
            "0.3100926635931924\n"
          ],
          "name": "stdout"
        },
        {
          "output_type": "display_data",
          "data": {
            "image/png": "[encoded data removed]",
            "text/plain": [
              "<Figure size 432x288 with 1 Axes>"
            ]
          },
          "metadata": {
            "tags": [],
            "needs_background": "light"
          }
        }
      ]
    },
    {
      "cell_type": "code",
      "metadata": {
        "id": "NEcf7rgTAv5P",
        "colab_type": "code",
        "outputId": "72a2b608-3f6b-4900-9343-a2413bf4b5f9",
        "colab": {
          "base_uri": "https://localhost:8080/",
          "height": 52
        }
      },
      "source": [
        "from sklearn.model_selection import GridSearchCV\n",
        "param_grid = {'alpha': alpha_space}\n",
        "reg=Ridge(normalize=True)\n",
        "reg_cv = GridSearchCV(reg, param_grid, cv=5)\n",
        "reg_cv.fit(boston.data,boston.target)\n",
        "print(reg_cv.best_params_)\n",
        "print(reg_cv.best_score_)\n",
        "\n"
      ],
      "execution_count": 0,
      "outputs": [
        {
          "output_type": "stream",
          "text": [
            "{'alpha': 0.3100926635931924}\n",
            "0.4837747654122298\n"
          ],
          "name": "stdout"
        }
      ]
    },
    {
      "cell_type": "code",
      "metadata": {
        "id": "0LyUT55zN1B_",
        "colab_type": "code",
        "colab": {}
      },
      "source": [
        "\n"
      ],
      "execution_count": 0,
      "outputs": []
    }
  ]
}