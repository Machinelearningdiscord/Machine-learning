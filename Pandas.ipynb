{
  "nbformat": 4,
  "nbformat_minor": 0,
  "metadata": {
    "colab": {
      "name": "Pandas.ipynb",
      "provenance": [],
      "collapsed_sections": [],
      "include_colab_link": true
    },
    "kernelspec": {
      "name": "python3",
      "display_name": "Python 3"
    }
  },
  "cells": [
    {
      "cell_type": "markdown",
      "metadata": {
        "id": "view-in-github",
        "colab_type": "text"
      },
      "source": [
        "<a href=\"https://colab.research.google.com/github/Machinelearningdiscord/Machine-learning/blob/master/Pandas.ipynb\" target=\"_parent\"><img src=\"https://colab.research.google.com/assets/colab-badge.svg\" alt=\"Open In Colab\"/></a>"
      ]
    },
    {
      "cell_type": "markdown",
      "metadata": {
        "id": "82MwZhM1Nwgx",
        "colab_type": "text"
      },
      "source": [
        "Read salaries.csv\n"
      ]
    },
    {
      "cell_type": "code",
      "metadata": {
        "id": "2cGWP72AOEWn",
        "colab_type": "code",
        "colab": {}
      },
      "source": [
        "import pandas as pd\n",
        "salaries_csv=\"https://raw.githubusercontent.com/Machinelearningdiscord/Machine-learning/master/Salaries.csv\"\n",
        "df=pd.read_csv(salaries_csv,low_memory=False)\n"
      ],
      "execution_count": 0,
      "outputs": []
    },
    {
      "cell_type": "markdown",
      "metadata": {
        "id": "HZ--XsIDOKUl",
        "colab_type": "text"
      },
      "source": [
        "check the head of dataframe"
      ]
    },
    {
      "cell_type": "code",
      "metadata": {
        "id": "5khH9KLtOOar",
        "colab_type": "code",
        "colab": {}
      },
      "source": [
        ""
      ],
      "execution_count": 0,
      "outputs": []
    },
    {
      "cell_type": "markdown",
      "metadata": {
        "id": "DxSWRcnmBWJi",
        "colab_type": "text"
      },
      "source": [
        ""
      ]
    },
    {
      "cell_type": "markdown",
      "metadata": {
        "id": "N7A-_WtOOSlJ",
        "colab_type": "text"
      },
      "source": [
        "Use the .info() to find out how many entries there are\n"
      ]
    },
    {
      "cell_type": "code",
      "metadata": {
        "id": "KIYMx9hFOq6V",
        "colab_type": "code",
        "colab": {}
      },
      "source": [
        ""
      ],
      "execution_count": 0,
      "outputs": []
    },
    {
      "cell_type": "markdown",
      "metadata": {
        "id": "pX3RN5s5OV6J",
        "colab_type": "text"
      },
      "source": [
        "what is average Basepay"
      ]
    },
    {
      "cell_type": "markdown",
      "metadata": {
        "id": "Raz0JxXXOyDC",
        "colab_type": "text"
      },
      "source": [
        ""
      ]
    },
    {
      "cell_type": "code",
      "metadata": {
        "id": "86e5-vbhOYs-",
        "colab_type": "code",
        "colab": {}
      },
      "source": [
        ""
      ],
      "execution_count": 0,
      "outputs": []
    },
    {
      "cell_type": "markdown",
      "metadata": {
        "id": "67ITTv5POaGf",
        "colab_type": "text"
      },
      "source": [
        "What is highest amount of OvertimePay in the dataset\n"
      ]
    },
    {
      "cell_type": "code",
      "metadata": {
        "id": "FnBboN-KOclh",
        "colab_type": "code",
        "colab": {}
      },
      "source": [
        ""
      ],
      "execution_count": 0,
      "outputs": []
    },
    {
      "cell_type": "markdown",
      "metadata": {
        "id": "ivbrT0A3Oc1O",
        "colab_type": "text"
      },
      "source": [
        "what is the job title of \"JOSEPH DRISCOLL\"\n"
      ]
    },
    {
      "cell_type": "code",
      "metadata": {
        "id": "zCh2RZsOOejJ",
        "colab_type": "code",
        "colab": {}
      },
      "source": [
        ""
      ],
      "execution_count": 0,
      "outputs": []
    },
    {
      "cell_type": "markdown",
      "metadata": {
        "id": "R3WHdW3POewj",
        "colab_type": "text"
      },
      "source": [
        "How much does   \"JOSEPH DRISCOLL\" make (Inlcuding benefits)\n"
      ]
    },
    {
      "cell_type": "code",
      "metadata": {
        "id": "L6DTeDRXO335",
        "colab_type": "code",
        "colab": {}
      },
      "source": [
        ""
      ],
      "execution_count": 0,
      "outputs": []
    },
    {
      "cell_type": "markdown",
      "metadata": {
        "id": "kqL3L4wjO4Gi",
        "colab_type": "text"
      },
      "source": [
        "What is the name of highest paid person(including benefits\n"
      ]
    },
    {
      "cell_type": "code",
      "metadata": {
        "id": "_9zc9666O7wc",
        "colab_type": "code",
        "colab": {}
      },
      "source": [
        ""
      ],
      "execution_count": 0,
      "outputs": []
    },
    {
      "cell_type": "markdown",
      "metadata": {
        "id": "dPrSDqu_O8B-",
        "colab_type": "text"
      },
      "source": [
        "What is the name of lowest paid person(including benefits).\n"
      ]
    },
    {
      "cell_type": "code",
      "metadata": {
        "id": "GtrgsQiVO-Er",
        "colab_type": "code",
        "colab": {}
      },
      "source": [
        ""
      ],
      "execution_count": 0,
      "outputs": []
    },
    {
      "cell_type": "markdown",
      "metadata": {
        "id": "_A2JoFLgO-Te",
        "colab_type": "text"
      },
      "source": [
        "What was the average BasePay of all employes/year (2011)\n"
      ]
    },
    {
      "cell_type": "code",
      "metadata": {
        "id": "YZ10k9VKPAo4",
        "colab_type": "code",
        "colab": {}
      },
      "source": [
        ""
      ],
      "execution_count": 0,
      "outputs": []
    },
    {
      "cell_type": "markdown",
      "metadata": {
        "id": "zYxGnc1UPA2G",
        "colab_type": "text"
      },
      "source": [
        "How many unique job titles are there\n"
      ]
    },
    {
      "cell_type": "code",
      "metadata": {
        "id": "cBXhHYYfPCZu",
        "colab_type": "code",
        "colab": {}
      },
      "source": [
        ""
      ],
      "execution_count": 0,
      "outputs": []
    },
    {
      "cell_type": "markdown",
      "metadata": {
        "id": "CzZVsTKuPCqH",
        "colab_type": "text"
      },
      "source": [
        "What are top 5 common jobs\n"
      ]
    },
    {
      "cell_type": "code",
      "metadata": {
        "id": "l6ZESR-uPJUL",
        "colab_type": "code",
        "colab": {}
      },
      "source": [
        ""
      ],
      "execution_count": 0,
      "outputs": []
    },
    {
      "cell_type": "markdown",
      "metadata": {
        "id": "wVv5cAeZPJj4",
        "colab_type": "text"
      },
      "source": [
        "How many job titles were represented by only one person in 2013\n"
      ]
    },
    {
      "cell_type": "code",
      "metadata": {
        "id": "sW_a5xNjPNE3",
        "colab_type": "code",
        "colab": {}
      },
      "source": [
        ""
      ],
      "execution_count": 0,
      "outputs": []
    },
    {
      "cell_type": "markdown",
      "metadata": {
        "id": "Zzxpzy2iPNWh",
        "colab_type": "text"
      },
      "source": [
        "How many ppl have the word Chief in their Job title?\n"
      ]
    },
    {
      "cell_type": "code",
      "metadata": {
        "id": "vTDxGx4wPPoB",
        "colab_type": "code",
        "colab": {}
      },
      "source": [
        ""
      ],
      "execution_count": 0,
      "outputs": []
    },
    {
      "cell_type": "markdown",
      "metadata": {
        "id": "aqnRWEavPP6t",
        "colab_type": "text"
      },
      "source": [
        "Is there a correlation between length of the job title string and salary\n"
      ]
    },
    {
      "cell_type": "code",
      "metadata": {
        "id": "j3PMk4K0PSA7",
        "colab_type": "code",
        "colab": {}
      },
      "source": [
        ""
      ],
      "execution_count": 0,
      "outputs": []
    }
  ]
}