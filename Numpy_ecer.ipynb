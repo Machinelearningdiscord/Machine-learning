{
  "nbformat": 4,
  "nbformat_minor": 0,
  "metadata": {
    "colab": {
      "name": "Numpy_ecer.ipynb",
      "provenance": [],
      "collapsed_sections": [],
      "include_colab_link": true
    },
    "kernelspec": {
      "name": "python3",
      "display_name": "Python 3"
    }
  },
  "cells": [
    {
      "cell_type": "markdown",
      "metadata": {
        "id": "view-in-github",
        "colab_type": "text"
      },
      "source": [
        "<a href=\"https://colab.research.google.com/github/Machinelearningdiscord/Machine-learning/blob/master/Numpy_ecer.ipynb\" target=\"_parent\"><img src=\"https://colab.research.google.com/assets/colab-badge.svg\" alt=\"Open In Colab\"/></a>"
      ]
    },
    {
      "cell_type": "markdown",
      "metadata": {
        "id": "NBJcn6NAAm9o",
        "colab_type": "text"
      },
      "source": [
        "#Create an array of 10 zeros"
      ]
    },
    {
      "cell_type": "code",
      "metadata": {
        "id": "lKG48xg9Aulc",
        "colab_type": "code",
        "colab": {}
      },
      "source": [
        "\n"
      ],
      "execution_count": 0,
      "outputs": []
    },
    {
      "cell_type": "markdown",
      "metadata": {
        "id": "BIK15whkA1-t",
        "colab_type": "text"
      },
      "source": [
        "#create an array of 10 ones"
      ]
    },
    {
      "cell_type": "code",
      "metadata": {
        "id": "zKvCu6iQBBG7",
        "colab_type": "code",
        "colab": {}
      },
      "source": [
        "\n"
      ],
      "execution_count": 0,
      "outputs": []
    },
    {
      "cell_type": "markdown",
      "metadata": {
        "id": "Yp-j0_leBJef",
        "colab_type": "text"
      },
      "source": [
        "#create an array of 10 fives"
      ]
    },
    {
      "cell_type": "code",
      "metadata": {
        "id": "_lc7j8g2BLWn",
        "colab_type": "code",
        "colab": {}
      },
      "source": [
        ""
      ],
      "execution_count": 0,
      "outputs": []
    },
    {
      "cell_type": "markdown",
      "metadata": {
        "id": "hxWVDvQBBLvE",
        "colab_type": "text"
      },
      "source": [
        "#create an array of the integers from 10 to 50\n"
      ]
    },
    {
      "cell_type": "code",
      "metadata": {
        "id": "ZjyELOo0BMB_",
        "colab_type": "code",
        "colab": {}
      },
      "source": [
        ""
      ],
      "execution_count": 0,
      "outputs": []
    },
    {
      "cell_type": "markdown",
      "metadata": {
        "id": "1Sx5jo5aBMUi",
        "colab_type": "text"
      },
      "source": [
        "#create an array of all the even integers from 10 to 50"
      ]
    },
    {
      "cell_type": "code",
      "metadata": {
        "id": "NB9pmMm5BMrq",
        "colab_type": "code",
        "colab": {}
      },
      "source": [
        ""
      ],
      "execution_count": 0,
      "outputs": []
    },
    {
      "cell_type": "markdown",
      "metadata": {
        "id": "EaYHAFgABM8b",
        "colab_type": "text"
      },
      "source": [
        "#create a 3*3 matrix with values ranging from 0 to 8"
      ]
    },
    {
      "cell_type": "code",
      "metadata": {
        "id": "-4RuAhGXBNQw",
        "colab_type": "code",
        "colab": {}
      },
      "source": [
        ""
      ],
      "execution_count": 0,
      "outputs": []
    },
    {
      "cell_type": "markdown",
      "metadata": {
        "id": "I2xPP85HCgGv",
        "colab_type": "text"
      },
      "source": [
        "#Use numpy to generate a random number bteween 0 and 1"
      ]
    },
    {
      "cell_type": "code",
      "metadata": {
        "id": "3HC24klRCgb3",
        "colab_type": "code",
        "colab": {}
      },
      "source": [
        ""
      ],
      "execution_count": 0,
      "outputs": []
    },
    {
      "cell_type": "markdown",
      "metadata": {
        "id": "BFVKjOWJCgqY",
        "colab_type": "text"
      },
      "source": [
        "#use numpy to generate an array of 35 random numbers sampled from a standard normal distribution"
      ]
    },
    {
      "cell_type": "code",
      "metadata": {
        "id": "KFh3Vi85Cg3i",
        "colab_type": "code",
        "colab": {}
      },
      "source": [
        "\n"
      ],
      "execution_count": 0,
      "outputs": []
    },
    {
      "cell_type": "markdown",
      "metadata": {
        "id": "8aKvJs3bChHB",
        "colab_type": "text"
      },
      "source": [
        "#Create an array of 20 linearly spaced points between 0 and 1\n"
      ]
    },
    {
      "cell_type": "code",
      "metadata": {
        "id": "A1cfsSfeChVQ",
        "colab_type": "code",
        "colab": {}
      },
      "source": [
        ""
      ],
      "execution_count": 0,
      "outputs": []
    },
    {
      "cell_type": "markdown",
      "metadata": {
        "id": "7dqqUDSDChjU",
        "colab_type": "text"
      },
      "source": [
        "#array([[ 1,  2,  3,  4,  5],\n",
        "#       [ 6,  7,  8,  9, 10],\n",
        "#       [11, 12, 13, 14, 15],\n",
        "#       [16, 17, 18, 19, 20],\n",
        "#       [21, 22, 23, 24, 25]])\n",
        "#Use above matrix to reproduce below matrix\n",
        "#array([[12, 13, 14, 15],\n",
        "#       [17, 18, 19, 20],\n",
        "#       [22, 23, 24, 25]])\n",
        "#grab number \"20\" from matrix mat"
      ]
    },
    {
      "cell_type": "code",
      "metadata": {
        "id": "eRYW4MelChxp",
        "colab_type": "code",
        "colab": {}
      },
      "source": [
        ""
      ],
      "execution_count": 0,
      "outputs": []
    },
    {
      "cell_type": "markdown",
      "metadata": {
        "id": "khkiXsZmCiAF",
        "colab_type": "text"
      },
      "source": [
        "#Use above matrix(mat) to reproduce below matrix\n",
        "#array([[ 2],\n",
        "#       [ 7],\n",
        "#       [12]])\n",
        "#Get sum of all the values in mat\n",
        "#Get standard deviation of all the values in the mat\n",
        "#Get the sum of all of the columns in mat"
      ]
    },
    {
      "cell_type": "code",
      "metadata": {
        "id": "er6hbL7jCiPI",
        "colab_type": "code",
        "colab": {}
      },
      "source": [
        ""
      ],
      "execution_count": 0,
      "outputs": []
    }
  ]
}